{
 "cells": [
  {
   "cell_type": "code",
   "execution_count": 1,
   "metadata": {},
   "outputs": [
    {
     "name": "stdout",
     "output_type": "stream",
     "text": [
      "Welcome to pyram: your Raman analysis library!\n"
     ]
    }
   ],
   "source": [
    "import numpy as np\n",
    "import matplotlib.pyplot as plt\n",
    "import os\n",
    "import copy\n",
    "import pandas as pd\n",
    "%matplotlib inline\n",
    "import pyram as pr"
   ]
  },
  {
   "cell_type": "code",
   "execution_count": 2,
   "metadata": {},
   "outputs": [
    {
     "name": "stdout",
     "output_type": "stream",
     "text": [
      "Charging pure spectra library, needs around a minute ....\n",
      "Done. Good work!\n"
     ]
    }
   ],
   "source": [
    "pr.cwd('example_data')\n",
    "pr.charge_lib('short')"
   ]
  },
  {
   "cell_type": "code",
   "execution_count": 7,
   "metadata": {},
   "outputs": [],
   "source": [
    "lib=pr.lib()\n",
    "lib_names=list(lib.keys())"
   ]
  },
  {
   "cell_type": "code",
   "execution_count": 195,
   "metadata": {},
   "outputs": [
    {
     "name": "stdout",
     "output_type": "stream",
     "text": [
      "txt0  ->  Sample01_A_10x6s_633nm_G1200_F100__Ox100LWD.txt\n",
      "txt1  ->  Sample01_B_10x30s_633nm_G1200_F1__Ox100LWD.txt\n",
      "txt2  ->  Sample01_C_10x20s_633nm_G1200_F10__Ox100LWD.txt\n",
      "txt3  ->  Sample01_D_6x4s_633nm_G1200_F100__Ox10.txt\n",
      "txt4  ->  Sample01_E_6x4s_633nm_G1200_F100__Ox100LWD.txt\n",
      "txt5  ->  Sample01_F_10x5s_633nm_G1200_F0_1__Ox100LWD.txt\n",
      "txt6  ->  Sample01_G_6x10s_633nm_G1200_F10__Ox100LWD.txt\n",
      "txt7  ->  Sample01_H_10x10s_633nm_G1200_F10__Ox100LWD.txt\n",
      "txt8  ->  Sample01_I_10x10s_633nm_G1200_F25__Ox100LWD.txt\n",
      "txt9  ->  Sample01_J_10x5s_633nm_G1200_F10__Ox100LWD.txt\n",
      "txt10  ->  Sample01_K_10x10s_633nm_G1200_F10__Ox100LWD.txt\n",
      "txt11  ->  Si_calibration_A_60x1s_633nmnm_G1200_F100__Ox100.txt\n",
      "sum(Y-XW) =  -18111869.616152495\n",
      "message =  Optimization terminated successfully.\n",
      "# of iter =  2303\n"
     ]
    }
   ],
   "source": [
    "pr.set_alias()\n",
    "S=pr.type2spectra('txt8')\n",
    "S=pr.bkg_subtraction(S,sigma=100,plot=True)\n",
    "pr.plot(S)\n"
   ]
  },
  {
   "cell_type": "code",
   "execution_count": 196,
   "metadata": {},
   "outputs": [
    {
     "name": "stdout",
     "output_type": "stream",
     "text": [
      "                           spectra     match\n",
      "0      0.75 Albite, 0.25 Muscovite  0.865801\n",
      "1    0.75 Albite, 0.25 Armalcolite  0.859376\n",
      "2   0.75 Albite, 0.25 Chalcopyrite  0.857216\n",
      "3     0.75 Albite, 0.25 Nontronite  0.856793\n",
      "4   0.75 Albite, 0.25 Pyrophyllite  0.852844\n",
      "5       0.75 Albite, 0.25 Pimelite  0.847900\n",
      "6     0.75 Albite, 0.25 Phlogopite  0.845540\n",
      "7   0.75 Albite, 0.25 Arsenopyrite  0.841883\n",
      "8  0.75 Albite, 0.25 Lepidocrocite  0.841174\n",
      "9        0.75 Albite, 0.25 Amesite  0.841024\n"
     ]
    }
   ],
   "source": [
    "shift=10\n",
    "\n",
    "match = []\n",
    "names = []\n",
    "step = np.linspace(0,1,5)\n",
    "step = step[1:-1]\n",
    "for a in range(len(lib_names)):\n",
    "    for b in range(len(lib_names)):\n",
    "        if b>a:\n",
    "            \n",
    "            B = [0]*2\n",
    "            N = 2\n",
    "            B[0]=pr.lib(lib_names[a]).copy()\n",
    "            B[0][1] /=  np.max(B[0][1])\n",
    "            B[1]=pr.lib(lib_names[b]).copy()\n",
    "            B[1][1] /=  np.max(B[1][1])\n",
    "            min = np.max([B[0][0,0],B[1][0,0]])\n",
    "            max = np.min([B[0][0,-1],B[1][0,-1]])\n",
    "            min_A = np.where(B[0][0]==min)[0][0]\n",
    "            max_A = np.where(B[0][0]==max)[0][0]\n",
    "            min_B = np.where(B[1][0]==min)[0][0]\n",
    "            max_B = np.where(B[1][0]==max)[0][0]\n",
    "            B[0] = B[0][:,min_A:max_A]\n",
    "            B[1] = B[1][:,min_B:max_B]\n",
    "\n",
    "            temp=[0,0]\n",
    "            for i in step:\n",
    "                X = np.array([B[0][0,:], i*B[0][1,:]+(1-i)*B[1][1,:]])\n",
    "                t = pr.cos_sim_w_shift(S,X ,shift)\n",
    "                if t>temp[1]:\n",
    "                    temp[1] = t\n",
    "                    temp[0] = str(i)+' '+lib_names[a]+', '+str(1-i)+' '+lib_names[b]\n",
    "                \n",
    "\n",
    "            names.append(temp[0])\n",
    "            match.append(temp[1])\n",
    "        \n",
    "        if b==a:\n",
    "            B = pr.lib(lib_names[a]).copy()\n",
    "            names.append(lib_names[a])\n",
    "            match.append(pr.cos_sim_w_shift(S,B,shift))\n",
    "            \n",
    "\n",
    "match = pd.DataFrame({'spectra':names, 'match':match})    \n",
    "match.sort_values('match', ascending=False, inplace=True)\n",
    "match.reset_index(inplace=True, drop=True)\n",
    "print(match.head(10))"
   ]
  },
  {
   "cell_type": "code",
   "execution_count": 212,
   "metadata": {},
   "outputs": [
    {
     "name": "stdout",
     "output_type": "stream",
     "text": [
      "  alias          name     match\n",
      "0  sch0        Albite  0.835516\n",
      "1  sch1    Microcline  0.661255\n",
      "2  sch2    Orthoclase  0.603206\n",
      "3  sch3    Nontronite  0.578685\n",
      "4  sch4  Chalcopyrite  0.574209\n",
      "5  sch5       Zoisite  0.470706\n",
      "6  sch6  Arsenopyrite  0.442060\n",
      "7  sch7       Amesite  0.438392\n",
      "8  sch8   Armalcolite  0.433378\n",
      "9  sch9    Dwornikite  0.432447\n"
     ]
    }
   ],
   "source": [
    "pr.search(S,shift=10)"
   ]
  },
  {
   "cell_type": "code",
   "execution_count": 155,
   "metadata": {},
   "outputs": [],
   "source": [
    "%matplotlib qt"
   ]
  },
  {
   "cell_type": "code",
   "execution_count": 193,
   "metadata": {},
   "outputs": [],
   "source": [
    "A = pr.lib('Albite')\n",
    "B = pr.lib('Armalcolite')\n",
    "\n",
    "pr.plot([A,S])"
   ]
  }
 ],
 "metadata": {
  "interpreter": {
   "hash": "092cab01d92fba00de008360659f1920d197a9bb35c9781e9e883b46268b99c3"
  },
  "kernelspec": {
   "display_name": "Python 3.9.7 ('py')",
   "language": "python",
   "name": "python3"
  },
  "language_info": {
   "codemirror_mode": {
    "name": "ipython",
    "version": 3
   },
   "file_extension": ".py",
   "mimetype": "text/x-python",
   "name": "python",
   "nbconvert_exporter": "python",
   "pygments_lexer": "ipython3",
   "version": "3.9.7"
  },
  "orig_nbformat": 4
 },
 "nbformat": 4,
 "nbformat_minor": 2
}
