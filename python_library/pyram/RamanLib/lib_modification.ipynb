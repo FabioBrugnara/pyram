{
 "cells": [
  {
   "cell_type": "code",
   "execution_count": 3,
   "metadata": {},
   "outputs": [],
   "source": [
    "import numpy as np\n",
    "import matplotlib.pyplot as plt\n",
    "import os\n",
    "import copy\n",
    "%matplotlib qt"
   ]
  },
  {
   "cell_type": "code",
   "execution_count": 4,
   "metadata": {},
   "outputs": [],
   "source": [
    "lib_path = './short_raw'"
   ]
  },
  {
   "cell_type": "code",
   "execution_count": 7,
   "metadata": {},
   "outputs": [],
   "source": [
    "lib_files = os.listdir(lib_path)"
   ]
  },
  {
   "cell_type": "code",
   "execution_count": 6,
   "metadata": {},
   "outputs": [],
   "source": [
    "#to_remove = ['RamanSearchFileFast.rsf', 'RamanSearchFileSlow.rsf', 'RamanSearchNameInfo.rsf', 'RamanSearchNameList.rsf']\n",
    "#for t in to_remove:\n",
    "#    lib_files.remove(t)"
   ]
  },
  {
   "cell_type": "code",
   "execution_count": 15,
   "metadata": {},
   "outputs": [],
   "source": [
    "def interpol(S):\n",
    "    min = int(S[0][0]) if S[0][0]==0 else int(S[0][0]) +1\n",
    "    max = int(S[0][-1])\n",
    "    X = np.arange(min,max+1,1)\n",
    "    S = np.array([X, np.interp(X,S[0],S[1])])\n",
    "    return S"
   ]
  },
  {
   "cell_type": "code",
   "execution_count": 19,
   "metadata": {},
   "outputs": [],
   "source": [
    "for i in lib_files:\n",
    "    np.savetxt('./short/'+i,np.transpose(interpol(np.transpose(np.loadtxt('./short_raw/'+i)))))"
   ]
  }
 ],
 "metadata": {
  "interpreter": {
   "hash": "092cab01d92fba00de008360659f1920d197a9bb35c9781e9e883b46268b99c3"
  },
  "kernelspec": {
   "display_name": "Python 3.9.7 ('py')",
   "language": "python",
   "name": "python3"
  },
  "language_info": {
   "codemirror_mode": {
    "name": "ipython",
    "version": 3
   },
   "file_extension": ".py",
   "mimetype": "text/x-python",
   "name": "python",
   "nbconvert_exporter": "python",
   "pygments_lexer": "ipython3",
   "version": "3.9.7"
  },
  "orig_nbformat": 4
 },
 "nbformat": 4,
 "nbformat_minor": 2
}
