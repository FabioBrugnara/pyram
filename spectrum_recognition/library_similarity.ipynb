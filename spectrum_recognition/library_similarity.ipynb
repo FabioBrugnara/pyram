{
 "cells": [
  {
   "cell_type": "code",
   "execution_count": 1,
   "metadata": {},
   "outputs": [
    {
     "name": "stdout",
     "output_type": "stream",
     "text": [
      "Welcome to pyram: your Raman analysis library!\n"
     ]
    }
   ],
   "source": [
    "import numpy as np\n",
    "import matplotlib.pyplot as plt\n",
    "import os\n",
    "import copy\n",
    "import pandas as pd\n",
    "%matplotlib inline\n",
    "\n",
    "import sys\n",
    "sys.path.insert(1, '../library')\n",
    "import pyram as pr\n",
    "\n",
    "from sklearn.linear_model import LinearRegression\n",
    "import seaborn as sns\n",
    "import scipy\n",
    "from itertools import combinations\n",
    "from itertools import product\n",
    "\n",
    "from scipy.spatial import distance"
   ]
  },
  {
   "cell_type": "code",
   "execution_count": 2,
   "metadata": {},
   "outputs": [
    {
     "name": "stdout",
     "output_type": "stream",
     "text": [
      "Charging pure spectra library, needs around a minute ....\n",
      "Done. Good work!\n"
     ]
    }
   ],
   "source": [
    "pr.charge_lib('full')"
   ]
  },
  {
   "cell_type": "code",
   "execution_count": 3,
   "metadata": {},
   "outputs": [],
   "source": [
    "lib_names = list(pr.lib().keys())"
   ]
  },
  {
   "cell_type": "code",
   "execution_count": 12,
   "metadata": {},
   "outputs": [
    {
     "data": {
      "text/html": [
       "<div>\n",
       "<style scoped>\n",
       "    .dataframe tbody tr th:only-of-type {\n",
       "        vertical-align: middle;\n",
       "    }\n",
       "\n",
       "    .dataframe tbody tr th {\n",
       "        vertical-align: top;\n",
       "    }\n",
       "\n",
       "    .dataframe thead th {\n",
       "        text-align: right;\n",
       "    }\n",
       "</style>\n",
       "<table border=\"1\" class=\"dataframe\">\n",
       "  <thead>\n",
       "    <tr style=\"text-align: right;\">\n",
       "      <th></th>\n",
       "      <th>name</th>\n",
       "      <th>RRUFF_ID</th>\n",
       "      <th>spectra_type</th>\n",
       "      <th>wave_length</th>\n",
       "      <th>S</th>\n",
       "    </tr>\n",
       "  </thead>\n",
       "  <tbody>\n",
       "    <tr>\n",
       "      <th>0</th>\n",
       "      <td>Abelsonite</td>\n",
       "      <td>R070007</td>\n",
       "      <td>Raman</td>\n",
       "      <td>532</td>\n",
       "      <td>[[154.0, 155.0, 156.0, 157.0, 158.0, 159.0, 16...</td>\n",
       "    </tr>\n",
       "    <tr>\n",
       "      <th>1</th>\n",
       "      <td>Abelsonite</td>\n",
       "      <td>R070007</td>\n",
       "      <td>Raman</td>\n",
       "      <td>785</td>\n",
       "      <td>[[233.0, 234.0, 235.0, 236.0, 237.0, 238.0, 23...</td>\n",
       "    </tr>\n",
       "    <tr>\n",
       "      <th>2</th>\n",
       "      <td>Abhurite</td>\n",
       "      <td>R060227</td>\n",
       "      <td>Raman</td>\n",
       "      <td>785</td>\n",
       "      <td>[[107.0, 108.0, 109.0, 110.0, 111.0, 112.0, 11...</td>\n",
       "    </tr>\n",
       "    <tr>\n",
       "      <th>3</th>\n",
       "      <td>Actinolite</td>\n",
       "      <td>R040063</td>\n",
       "      <td>Raman</td>\n",
       "      <td>514</td>\n",
       "      <td>[[140.0, 141.0, 142.0, 143.0, 144.0, 145.0, 14...</td>\n",
       "    </tr>\n",
       "    <tr>\n",
       "      <th>4</th>\n",
       "      <td>Actinolite</td>\n",
       "      <td>R040063</td>\n",
       "      <td>Raman</td>\n",
       "      <td>532</td>\n",
       "      <td>[[119.0, 120.0, 121.0, 122.0, 123.0, 124.0, 12...</td>\n",
       "    </tr>\n",
       "    <tr>\n",
       "      <th>...</th>\n",
       "      <td>...</td>\n",
       "      <td>...</td>\n",
       "      <td>...</td>\n",
       "      <td>...</td>\n",
       "      <td>...</td>\n",
       "    </tr>\n",
       "    <tr>\n",
       "      <th>5122</th>\n",
       "      <td>Zwieselite</td>\n",
       "      <td>R050279</td>\n",
       "      <td>Raman</td>\n",
       "      <td>780</td>\n",
       "      <td>[[135.0, 136.0, 137.0, 138.0, 139.0, 140.0, 14...</td>\n",
       "    </tr>\n",
       "    <tr>\n",
       "      <th>5123</th>\n",
       "      <td>Zykaite</td>\n",
       "      <td>R070477</td>\n",
       "      <td>Raman</td>\n",
       "      <td>532</td>\n",
       "      <td>[[148.0, 149.0, 150.0, 151.0, 152.0, 153.0, 15...</td>\n",
       "    </tr>\n",
       "    <tr>\n",
       "      <th>5124</th>\n",
       "      <td>Zykaite</td>\n",
       "      <td>R070477</td>\n",
       "      <td>Raman</td>\n",
       "      <td>785</td>\n",
       "      <td>[[146.0, 147.0, 148.0, 149.0, 150.0, 151.0, 15...</td>\n",
       "    </tr>\n",
       "    <tr>\n",
       "      <th>5125</th>\n",
       "      <td>unknown</td>\n",
       "      <td>R080054</td>\n",
       "      <td>Raman</td>\n",
       "      <td>532</td>\n",
       "      <td>[[160.0, 161.0, 162.0, 163.0, 164.0, 165.0, 16...</td>\n",
       "    </tr>\n",
       "    <tr>\n",
       "      <th>5126</th>\n",
       "      <td>unknown</td>\n",
       "      <td>R080054</td>\n",
       "      <td>Raman</td>\n",
       "      <td>780</td>\n",
       "      <td>[[127.0, 128.0, 129.0, 130.0, 131.0, 132.0, 13...</td>\n",
       "    </tr>\n",
       "  </tbody>\n",
       "</table>\n",
       "<p>5127 rows × 5 columns</p>\n",
       "</div>"
      ],
      "text/plain": [
       "            name RRUFF_ID spectra_type wave_length  \\\n",
       "0     Abelsonite  R070007        Raman         532   \n",
       "1     Abelsonite  R070007        Raman         785   \n",
       "2       Abhurite  R060227        Raman         785   \n",
       "3     Actinolite  R040063        Raman         514   \n",
       "4     Actinolite  R040063        Raman         532   \n",
       "...          ...      ...          ...         ...   \n",
       "5122  Zwieselite  R050279        Raman         780   \n",
       "5123     Zykaite  R070477        Raman         532   \n",
       "5124     Zykaite  R070477        Raman         785   \n",
       "5125     unknown  R080054        Raman         532   \n",
       "5126     unknown  R080054        Raman         780   \n",
       "\n",
       "                                                      S  \n",
       "0     [[154.0, 155.0, 156.0, 157.0, 158.0, 159.0, 16...  \n",
       "1     [[233.0, 234.0, 235.0, 236.0, 237.0, 238.0, 23...  \n",
       "2     [[107.0, 108.0, 109.0, 110.0, 111.0, 112.0, 11...  \n",
       "3     [[140.0, 141.0, 142.0, 143.0, 144.0, 145.0, 14...  \n",
       "4     [[119.0, 120.0, 121.0, 122.0, 123.0, 124.0, 12...  \n",
       "...                                                 ...  \n",
       "5122  [[135.0, 136.0, 137.0, 138.0, 139.0, 140.0, 14...  \n",
       "5123  [[148.0, 149.0, 150.0, 151.0, 152.0, 153.0, 15...  \n",
       "5124  [[146.0, 147.0, 148.0, 149.0, 150.0, 151.0, 15...  \n",
       "5125  [[160.0, 161.0, 162.0, 163.0, 164.0, 165.0, 16...  \n",
       "5126  [[127.0, 128.0, 129.0, 130.0, 131.0, 132.0, 13...  \n",
       "\n",
       "[5127 rows x 5 columns]"
      ]
     },
     "execution_count": 12,
     "metadata": {},
     "output_type": "execute_result"
    }
   ],
   "source": [
    "def RRUFF2DF():\n",
    "    name = ['']*len(lib_names)\n",
    "    RRUFF_ID = ['']*len(lib_names)\n",
    "    spectra_type = ['']*len(lib_names)\n",
    "    wave_length = ['']*len(lib_names)\n",
    "    spectra = [0]*len(lib_names)\n",
    "\n",
    "    for i in range(len(lib_names)):\n",
    "        name_t = ''\n",
    "        RRUFF_ID_t = ''\n",
    "        spectra_type_t = ''\n",
    "        wave_length_t = ''\n",
    "        step = 0\n",
    "\n",
    "        for j in lib_names[i]:\n",
    "            if step == 0 and j != '_':\n",
    "                name_t += j\n",
    "            elif step == 2 and j != '_':\n",
    "                RRUFF_ID_t += j\n",
    "            elif step == 4 and j != '_':\n",
    "                spectra_type_t += j\n",
    "            elif step == 6 and j != '_':\n",
    "                wave_length_t += j\n",
    "            else:\n",
    "                step+=1\n",
    "            \n",
    "        name[i] = name_t\n",
    "        RRUFF_ID[i] = RRUFF_ID_t\n",
    "        spectra_type[i] = spectra_type_t\n",
    "        wave_length[i] = wave_length_t\n",
    "        spectra[i] = pr.lib(lib_names[i])\n",
    "\n",
    "    global RRUFF_lib\n",
    "    RRUFF_lib = pd.DataFrame({'name':name, 'RRUFF_ID':RRUFF_ID, 'spectra_type':spectra_type, 'wave_length':wave_length, 'S':spectra})\n",
    "   \n",
    "    return RRUFF_lib\n",
    "\n",
    "RRUFF_lib = RRUFF2DF()\n",
    "RRUFF_lib"
   ]
  },
  {
   "cell_type": "code",
   "execution_count": 18,
   "metadata": {},
   "outputs": [],
   "source": [
    "elements = ['Quartz', 'Albite', 'Calcite', 'Dolomite', 'Gypsum', 'Magnesite', 'Mica', 'Talc', 'Forsterite', 'Lizardite']\n",
    "elements = ['Calcite', 'Dolomite', 'Siderite','Talc']\n",
    "\n",
    "cond = ''\n",
    "for i in elements[:-1]:\n",
    "    cond += 'name == \"'+i+'\" or '\n",
    "cond += 'name == \"'+elements[-1]+'\"'\n",
    "\n",
    "data = RRUFF_lib.query(cond)\n",
    "\n",
    "\n",
    "def get_confusion_similarity(data):\n",
    "    \n",
    "    data.reset_index(inplace=True, drop=True)\n",
    "\n",
    "    names = data.name\n",
    "    match = np.zeros((len(names),len(names)))\n",
    "    \n",
    "    for i in range(len(names)):\n",
    "        for j in range(len(names)):\n",
    "            match[i,j] = pr.cos_sim_w_shift(data.iloc[i].S, data.iloc[j].S, shift=5)\n",
    "\n",
    "    return match\n",
    "\n",
    "M = get_confusion_similarity(data)"
   ]
  },
  {
   "cell_type": "code",
   "execution_count": 17,
   "metadata": {},
   "outputs": [
    {
     "data": {
      "text/plain": [
       "<AxesSubplot:>"
      ]
     },
     "execution_count": 17,
     "metadata": {},
     "output_type": "execute_result"
    },
    {
     "data": {
      "image/png": "[encoded data removed]",
      "text/plain": [
       "<Figure size 936x720 with 2 Axes>"
      ]
     },
     "metadata": {
      "needs_background": "light"
     },
     "output_type": "display_data"
    }
   ],
   "source": [
    "plt.figure(figsize=(13,10))\n",
    "sns.heatmap(M, cmap = sns.color_palette(\"rocket_r\", as_cmap=True),annot=False, square=True)"
   ]
  }
 ],
 "metadata": {
  "kernelspec": {
   "display_name": "Python 3.9.7 ('py')",
   "language": "python",
   "name": "python3"
  },
  "language_info": {
   "codemirror_mode": {
    "name": "ipython",
    "version": 3
   },
   "file_extension": ".py",
   "mimetype": "text/x-python",
   "name": "python",
   "nbconvert_exporter": "python",
   "pygments_lexer": "ipython3",
   "version": "3.9.7"
  },
  "orig_nbformat": 4,
  "vscode": {
   "interpreter": {
    "hash": "092cab01d92fba00de008360659f1920d197a9bb35c9781e9e883b46268b99c3"
   }
  }
 },
 "nbformat": 4,
 "nbformat_minor": 2
}
