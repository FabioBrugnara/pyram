{
 "cells": [
  {
   "cell_type": "code",
   "execution_count": 1,
   "metadata": {},
   "outputs": [
    {
     "name": "stdout",
     "output_type": "stream",
     "text": [
      "Welcome to pyram: your Raman analysis library!\n"
     ]
    }
   ],
   "source": [
    "import numpy as np\n",
    "import matplotlib.pyplot as plt\n",
    "import os\n",
    "import copy\n",
    "import pandas as pd\n",
    "%matplotlib inline\n",
    "import pyram as pr\n",
    "from sklearn.linear_model import LinearRegression"
   ]
  },
  {
   "cell_type": "code",
   "execution_count": 2,
   "metadata": {},
   "outputs": [
    {
     "name": "stdout",
     "output_type": "stream",
     "text": [
      "Charging pure spectra library, needs around a minute ....\n",
      "Done. Good work!\n"
     ]
    }
   ],
   "source": [
    "#pr.charge_lib('full')\n",
    "pr.charge_lib('short')"
   ]
  },
  {
   "cell_type": "code",
   "execution_count": 3,
   "metadata": {},
   "outputs": [
    {
     "name": "stdout",
     "output_type": "stream",
     "text": [
      "txt0  ->  Sample01_A_10x6s_633nm_G1200_F100__Ox100LWD.txt\n",
      "txt1  ->  Sample01_B_10x30s_633nm_G1200_F1__Ox100LWD.txt\n",
      "txt2  ->  Sample01_C_10x20s_633nm_G1200_F10__Ox100LWD.txt\n",
      "txt3  ->  Sample01_D_6x4s_633nm_G1200_F100__Ox10.txt\n",
      "txt4  ->  Sample01_E_6x4s_633nm_G1200_F100__Ox100LWD.txt\n",
      "txt5  ->  Sample01_F_10x5s_633nm_G1200_F0_1__Ox100LWD.txt\n",
      "txt6  ->  Sample01_G_6x10s_633nm_G1200_F10__Ox100LWD.txt\n",
      "txt7  ->  Sample01_H_10x10s_633nm_G1200_F10__Ox100LWD.txt\n",
      "txt8  ->  Sample01_I_10x10s_633nm_G1200_F25__Ox100LWD.txt\n",
      "txt9  ->  Sample01_J_10x5s_633nm_G1200_F10__Ox100LWD.txt\n",
      "txt10  ->  Sample01_K_10x10s_633nm_G1200_F10__Ox100LWD.txt\n",
      "txt11  ->  Si_calibration_A_60x1s_633nmnm_G1200_F100__Ox100.txt\n"
     ]
    }
   ],
   "source": [
    "pr.cwd('example_data')\n",
    "pr.set_alias()"
   ]
  },
  {
   "cell_type": "code",
   "execution_count": 4,
   "metadata": {},
   "outputs": [
    {
     "name": "stdout",
     "output_type": "stream",
     "text": [
      "sum(Y-XW) =  -22156669.950680025\n",
      "message =  Optimization terminated successfully.\n",
      "# of iter =  2597\n"
     ]
    },
    {
     "data": {
      "image/png": "[encoded data removed]",
      "text/plain": [
       "<Figure size 720x360 with 1 Axes>"
      ]
     },
     "metadata": {
      "needs_background": "light"
     },
     "output_type": "display_data"
    }
   ],
   "source": [
    "S=pr.type2spectra('txt3')\n",
    "S=pr.bkg_subtraction(S,sigma=100,plot=False)\n",
    "pr.plot(S)"
   ]
  },
  {
   "cell_type": "markdown",
   "metadata": {},
   "source": [
    "# 2D similarity - basic implementation"
   ]
  },
  {
   "cell_type": "code",
   "execution_count": 6,
   "metadata": {},
   "outputs": [
    {
     "name": "stdout",
     "output_type": "stream",
     "text": [
      "                            spectra     match\n",
      "0                            Quartz  0.952387\n",
      "1          0.5 Anatase, 0.5 Zoisite  0.487428\n",
      "2                            Albite  0.486081\n",
      "3       0.5 Microcline, 0.5 Zoisite  0.472296\n",
      "4       0.5 Orthoclase, 0.5 Zoisite  0.460807\n",
      "5      0.5 Orthoclase, 0.5 Titanite  0.434150\n",
      "6         0.5 Epidote, 0.5 Pimelite  0.432977\n",
      "7        0.5 Pimelite, 0.5 Titanite  0.432102\n",
      "8  0.75 Chalcopyrite, 0.25 Titanite  0.431098\n",
      "9    0.75 Microcline, 0.25 Titanite  0.428916\n"
     ]
    }
   ],
   "source": [
    "shift=10\n",
    "per = 0.1\n",
    "\n",
    "lib=pr.lib()\n",
    "lib_names=list(lib.keys())\n",
    "\n",
    "match = []\n",
    "names = []\n",
    "step = np.linspace(0,1,5)\n",
    "step = step[1:-1]\n",
    "for a in range(len(lib_names)):\n",
    "    for b in range(len(lib_names)):\n",
    "        if b>a:\n",
    "            \n",
    "            N = 2\n",
    "            A=pr.lib(lib_names[a]).copy()\n",
    "            A[1] /=  np.max(A[1])\n",
    "            B=pr.lib(lib_names[b]).copy()\n",
    "            B[1] /=  np.max(B[1])\n",
    "            min = np.max([A[0,0],B[0,0]])\n",
    "            max = np.min([A[0,-1],B[0,-1]])\n",
    "            min_A = np.where(A[0]==min)[0][0]\n",
    "            max_A = np.where(A[0]==max)[0][0]\n",
    "            min_B = np.where(B[0]==min)[0][0]\n",
    "            max_B = np.where(B[0]==max)[0][0]\n",
    "            A = A[:,min_A:max_A]\n",
    "            B = B[:,min_B:max_B]\n",
    "\n",
    "            temp=[0,0]\n",
    "            for i in step:\n",
    "                X = np.array([A[0,:], i*A[1,:]+(1-i)*B[1,:]])\n",
    "                t = pr.cos_sim_w_shift(S,X ,shift)\n",
    "                if t>temp[1]:\n",
    "                    temp[1] = t\n",
    "                    temp[0] = str(i)+' '+lib_names[a]+', '+str(1-i)+' '+lib_names[b]\n",
    "                \n",
    "            \n",
    "            x1 = pr.cos_sim_w_shift(S, pr.lib(lib_names[a]),shift) # da modificare il modo\n",
    "            x2 = pr.cos_sim_w_shift(S, pr.lib(lib_names[b]),shift)\n",
    "            if (temp[1]>np.max([x1,x2])*(1+per)): \n",
    "                names.append(temp[0])\n",
    "                match.append(temp[1])\n",
    "        \n",
    "        if b==a:\n",
    "            B = pr.lib(lib_names[a]).copy()\n",
    "            names.append(lib_names[a])\n",
    "            match.append(pr.cos_sim_w_shift(S,B,shift))\n",
    "            \n",
    "\n",
    "match = pd.DataFrame({'spectra':names, 'match':match})    \n",
    "match.sort_values('match', ascending=False, inplace=True)\n",
    "match.reset_index(inplace=True, drop=True)\n",
    "print(match.head(10))"
   ]
  },
  {
   "cell_type": "code",
   "execution_count": 10,
   "metadata": {},
   "outputs": [
    {
     "name": "stdout",
     "output_type": "stream",
     "text": [
      "  alias                         name     match\n",
      "0  sch0  Quartz__R060604__Raman__780  0.976377\n",
      "1  sch1  Quartz__X080015__Raman__780  0.975977\n",
      "2  sch2  Quartz__R050125__Raman__514  0.974004\n",
      "3  sch3  Quartz__X080016__Raman__532  0.969733\n",
      "4  sch4  Quartz__X080016__Raman__780  0.969478\n",
      "5  sch5  Quartz__R040031__Raman__780  0.967256\n",
      "6  sch6  Quartz__R050125__Raman__780  0.966819\n",
      "7  sch7  Quartz__X080015__Raman__532  0.965818\n",
      "8  sch8  Quartz__R040031__Raman__514  0.964360\n",
      "9  sch9  Quartz__R060604__Raman__532  0.960636\n"
     ]
    }
   ],
   "source": [
    "pr.search(S,shift=10)"
   ]
  },
  {
   "cell_type": "code",
   "execution_count": null,
   "metadata": {},
   "outputs": [],
   "source": [
    "A = pr.lib('Albite')\n",
    "B = pr.lib('Muscovite')\n",
    "C = pr.type2spectra('sch0')\n",
    "\n",
    "pr.plot([S,A,B,C])"
   ]
  },
  {
   "cell_type": "markdown",
   "metadata": {},
   "source": [
    "# 1D similarity - looking for smarter implementation (failed)"
   ]
  },
  {
   "cell_type": "code",
   "execution_count": 46,
   "metadata": {},
   "outputs": [],
   "source": [
    "lib=pr.lib()\n",
    "lib_names=list(lib.keys())\n",
    "\n",
    "########### putting the library in a np.array ###########\n",
    "m = len(lib_names)\n",
    "\n",
    "# searching the minimum and the maximum wn of the library\n",
    "min = lib[lib_names[0]][0].min()\n",
    "max = lib[lib_names[0]][0].max()\n",
    "\n",
    "for el in lib_names[1:]:\n",
    "    min_t = lib[el][0].min()\n",
    "    max_t = lib[el][0].max()\n",
    "\n",
    "    if min_t<min:\n",
    "        min = min_t\n",
    "    if max_t>max:\n",
    "        max = max_t\n",
    "\n",
    "wn = np.arange(min,max+1)\n",
    "n = len(wn)\n",
    "\n",
    "# rewriting the library in a np.array\n",
    "LIB = np.zeros((m,n))*np.nan\n",
    "\n",
    "for i in range(len(lib_names)):\n",
    "    min_t = lib[lib_names[i]][0].min()\n",
    "    max_t = lib[lib_names[i]][0].max()\n",
    "    \n",
    "    LIB[i][int(min_t-min):n-int(max-max_t)]  = lib[lib_names[i]][1]"
   ]
  },
  {
   "cell_type": "code",
   "execution_count": 51,
   "metadata": {},
   "outputs": [],
   "source": [
    "shift = 10\n",
    "cos_sim = []\n",
    "for i in np.arange(-shift,shift+1):\n",
    "    ########### reshaping with respect with the spectrum S ###########\n",
    "    LIB.shape[0]\n",
    "\n",
    "    # ausiliary variables\n",
    "    S_temp = copy.deepcopy(S)\n",
    "    S_temp[0] += i\n",
    "    LIB_temp = copy.deepcopy(LIB)\n",
    "    wn_temp = copy.deepcopy(wn)\n",
    "\n",
    "    # chanching dimensions\n",
    "    min_1 = np.min(S_temp[0])\n",
    "    min_2 = np.min(wn_temp)\n",
    "\n",
    "    if min_1<min_2:\n",
    "        S_temp = S_temp[int(min_2-min_1):]\n",
    "    if min_2<min_1:\n",
    "        wn_temp = wn_temp[int(min_1-min_2):]\n",
    "        LIB_temp = LIB_temp[:,int(min_1-min_2):]\n",
    "\n",
    "    max_1 = np.max(S_temp[0])\n",
    "    max_2 = np.max(wn_temp)\n",
    "\n",
    "    if max_1>max_2:\n",
    "        S_temp = S_temp[:,:int(max_2-max_1)]\n",
    "    if max_2>max_1:\n",
    "        wn_temp = wn_temp[:int(max_1-max_2)]\n",
    "        LIB_temp = LIB_temp[:,:int(max_1-max_2)]\n",
    "\n",
    "    ########## computing the cosine similarity ##########\n",
    "\n",
    "    # upper term\n",
    "    LIB_temp_wones = np.nan_to_num(LIB_temp)\n",
    "    D = np.dot(LIB_temp_wones,S_temp[1])\n",
    "\n",
    "    # library norm\n",
    "    N1 = np.sum(LIB_temp_wones**2,axis=1)\n",
    "\n",
    "    #spectrum norm\n",
    "    N2 = np.dot( np.nan_to_num(np.zeros(LIB_temp.shape)*LIB_temp+1), S_temp[1]**2)\n",
    "\n",
    "    cos_sim.append(D/(np.sqrt(N1)*np.sqrt(N2)))\n",
    "    \n",
    "#cos_sim = np.max(cos_sim)\n"
   ]
  },
  {
   "cell_type": "markdown",
   "metadata": {},
   "source": [
    "# 2D search: looking for a smarter implementation"
   ]
  },
  {
   "cell_type": "code",
   "execution_count": 5,
   "metadata": {},
   "outputs": [],
   "source": [
    "lib=pr.lib()\n",
    "lib_names=list(lib.keys())\n",
    "\n",
    "########### putting the library in a np.array ###########\n",
    "m = len(lib_names)\n",
    "\n",
    "# searching the minimum and the maximum wn of the library\n",
    "min = lib[lib_names[0]][0].min()\n",
    "max = lib[lib_names[0]][0].max()\n",
    "\n",
    "for el in lib_names[1:]:\n",
    "    min_t = lib[el][0].min()\n",
    "    max_t = lib[el][0].max()\n",
    "\n",
    "    if min_t<min:\n",
    "        min = min_t\n",
    "    if max_t>max:\n",
    "        max = max_t\n",
    "\n",
    "wn = np.arange(min,max+1)\n",
    "n = len(wn)\n",
    "\n",
    "# rewriting the library in a np.array\n",
    "LIB = np.zeros((m,n))\n",
    "\n",
    "for i in range(len(lib_names)):\n",
    "    min_t = lib[lib_names[i]][0].min()\n",
    "    max_t = lib[lib_names[i]][0].max()\n",
    "    \n",
    "    LIB[i][int(min_t-min):n-int(max-max_t)]  = lib[lib_names[i]][1]\n",
    "\n",
    "# rescaling the height to 1\n",
    "LIB = (LIB.transpose()/LIB.max(axis=1)).transpose()"
   ]
  },
  {
   "cell_type": "code",
   "execution_count": 9,
   "metadata": {},
   "outputs": [],
   "source": [
    "# ausiliar variables\n",
    "LIB_temp = copy.deepcopy(LIB)\n",
    "S_temp = copy.deepcopy(S)\n",
    "S_temp[1] = S_temp[1]/S_temp[1].max()\n",
    "wn_temp = copy.deepcopy(wn)\n",
    "\n",
    "# chanching dimensions of LIB_temp or S_temp\n",
    "min_1 = np.min(S_temp[0])\n",
    "min_2 = np.min(wn_temp)\n",
    "\n",
    "if min_1<min_2:\n",
    "    S_temp = S_temp[int(min_2-min_1):]\n",
    "if min_2<min_1:\n",
    "    wn_temp = wn_temp[int(min_1-min_2):]\n",
    "    LIB_temp = LIB_temp[:,int(min_1-min_2):]\n",
    "\n",
    "max_1 = np.max(S_temp[0])\n",
    "max_2 = np.max(wn_temp)\n",
    "\n",
    "if max_1>max_2:\n",
    "    S_temp = S_temp[:,:int(max_2-max_1)]\n",
    "if max_2>max_1:\n",
    "    wn_temp = wn_temp[:int(max_1-max_2)]\n",
    "    LIB_temp = LIB_temp[:,:int(max_1-max_2)]\n",
    "\n",
    "# generate shifted spectrum\n",
    "\n",
    "shift = 10\n",
    "\n",
    "shift_vec = np.arange(-shift,shift+1)\n",
    "\n",
    "LIB_temp_shifted = np.zeros((LIB_temp.shape[0]*len(shift_vec),LIB_temp.shape[1]))\n",
    "\n",
    "for i in range(len(shift_vec)):\n",
    "    if shift_vec[i]>0:\n",
    "        LIB_temp_shifted[i*LIB_temp.shape[0]:(i+1)*LIB_temp.shape[0],int(shift_vec[i]):] = LIB_temp[:,:-int(shift_vec[i])]\n",
    "    if shift_vec[i]<0:\n",
    "        LIB_temp_shifted[i*LIB_temp.shape[0]:(i+1)*LIB_temp.shape[0],:int(shift_vec[i])] = LIB_temp[:,-int(shift_vec[i]):]\n",
    "    if shift_vec[i]==0:\n",
    "        LIB_temp_shifted[i*LIB_temp.shape[0]:(i+1)*LIB_temp.shape[0],:] = LIB_temp[:,:]"
   ]
  },
  {
   "cell_type": "code",
   "execution_count": 18,
   "metadata": {},
   "outputs": [
    {
     "data": {
      "image/png": "[encoded data removed]",
      "text/plain": [
       "<Figure size 720x360 with 1 Axes>"
      ]
     },
     "metadata": {
      "needs_background": "light"
     },
     "output_type": "display_data"
    },
    {
     "name": "stdout",
     "output_type": "stream",
     "text": [
      "# of used spectra =  3\n",
      "      name  shift  regression coefficient\n",
      "0  Anatase    -10                0.156544\n",
      "1   Quartz      6                0.626106\n",
      "2   Quartz      7                0.210201\n"
     ]
    }
   ],
   "source": [
    "# linear regression\n",
    "reg = LinearRegression(fit_intercept=False, positive=True, n_jobs=-1)\n",
    "reg.fit(LIB_temp_shifted.transpose(),S_temp[1])\n",
    "\n",
    "# plot the regression\n",
    "plt.figure(figsize=(10,5))\n",
    "plt.plot(wn_temp,np.dot(LIB_temp_shifted.transpose(),reg.coef_))\n",
    "plt.plot(S_temp[0],S_temp[1])\n",
    "plt.show()\n",
    "\n",
    "# number of used spectrums used, selection of really used spectra\n",
    "\n",
    "th = 0.05\n",
    "\n",
    "count=0\n",
    "lib_used = []\n",
    "for i in range(len(reg.coef_)):\n",
    "    if reg.coef_[i]>th:\n",
    "        count+=1\n",
    "        lib_used.append(i)\n",
    "\n",
    "print('# of used spectra = ',count)\n",
    "\n",
    "# selected spectra sumup\n",
    "sumup = []\n",
    "\n",
    "for i in range(len(lib_used)):\n",
    "    sumup.append([lib_names[lib_used[i] - LIB_temp.shape[0]*(lib_used[i]//LIB_temp.shape[0])] , shift_vec[lib_used[i]//LIB_temp.shape[0]], reg.coef_[lib_used[i]]])\n",
    "\n",
    "sumup = pd.DataFrame(sumup, columns=['name','shift','regression coefficient'])\n",
    "print(sumup)"
   ]
  },
  {
   "cell_type": "code",
   "execution_count": 17,
   "metadata": {},
   "outputs": [
    {
     "name": "stdout",
     "output_type": "stream",
     "text": [
      "trying N = 2 ; resulting in 45 combinations\n"
     ]
    }
   ],
   "source": [
    "N = 2\n",
    "from itertools import combinations\n",
    "\n",
    "comb = list(combinations(list(sumup.index),N))\n",
    "\n",
    "# eliminare combinazioni dello stesso spettro shiftato!\n",
    "#......................................................\n",
    "#......................................................\n",
    "#......................................................\n",
    "#......................................................\n",
    "\n",
    "print('trying N =', N,'; resulting in', len(comb), 'combinations')\n",
    "\n",
    "# I need to compute the cosine similarity of the various possible combinations, and store its values\n",
    "\n",
    "for c in range(len(comb)):\n",
    "    # some needed variables\n",
    "    if N>1:\n",
    "        step = np.linspace(0,1,7)\n",
    "        step = step[1:-1]\n",
    "    if N==1:\n",
    "        step = 1\n",
    "    \n",
    "    pure = []\n",
    "    for el in comb[c]:\n",
    "        # restringo i wn a quelli comuni\n",
    "\n",
    "\n",
    "    \n",
    "\n",
    "\n"
   ]
  },
  {
   "cell_type": "code",
   "execution_count": 67,
   "metadata": {},
   "outputs": [
    {
     "name": "stdout",
     "output_type": "stream",
     "text": [
      "                                             spectra     match\n",
      "0  0.8333333333333333 Quartz__X080016__Raman__780...  0.982013\n",
      "1  0.8333333333333333 Quartz__X080016__Raman__780...  0.978760\n",
      "2  0.16666666666666666 Calcite__R050128__Raman__5...  0.977340\n",
      "3  0.16666666666666666 Covellite__R060143__Raman_...  0.976461\n",
      "4  0.8333333333333333 Quartz__X080016__Raman__780...  0.971312\n",
      "5  0.8333333333333333 Quartz__X080016__Raman__780...  0.970513\n",
      "6  0.8333333333333333 Diamond__R050207__Raman__53...  0.969652\n",
      "7  0.16666666666666666 Bertrandite__R060800__Rama...  0.969563\n",
      "8  0.8333333333333333 Quartz__X080016__Raman__780...  0.969373\n",
      "9  0.16666666666666666 Nahcolite__R070237__Raman_...  0.967684\n"
     ]
    }
   ],
   "source": [
    "shift=5\n",
    "per = 0.1\n",
    "\n",
    "match = []\n",
    "names = []\n",
    "step = np.linspace(0,1,7)\n",
    "step = step[1:-1]\n",
    "for a in range(len(lib_used)):\n",
    "    for b in range(len(lib_used)):\n",
    "        if b>a:\n",
    "            \n",
    "            N = 2\n",
    "            A=pr.lib(lib_used[a]).copy()\n",
    "            A[1] /=  np.max(A[1])\n",
    "            B=pr.lib(lib_used[b]).copy()\n",
    "            B[1] /=  np.max(B[1])\n",
    "            min = np.max([A[0,0],B[0,0]])\n",
    "            max = np.min([A[0,-1],B[0,-1]])\n",
    "            min_A = np.where(A[0]==min)[0][0]\n",
    "            max_A = np.where(A[0]==max)[0][0]\n",
    "            min_B = np.where(B[0]==min)[0][0]\n",
    "            max_B = np.where(B[0]==max)[0][0]\n",
    "            A = A[:,min_A:max_A]\n",
    "            B = B[:,min_B:max_B]\n",
    "\n",
    "            temp=[0,0]\n",
    "            for i in step:\n",
    "                X = np.array([A[0,:], i*A[1,:]+(1-i)*B[1,:]])\n",
    "                t = pr.cos_sim_w_shift(S,X ,shift)\n",
    "                if t>temp[1]:\n",
    "                    temp[1] = t\n",
    "                    temp[0] = str(i)+' '+lib_used[a]+', '+str(1-i)+' '+lib_used[b]\n",
    "                \n",
    "            \n",
    "            x1 = pr.cos_sim_w_shift(S, pr.lib(lib_names[a]),shift) # da modificare il modo\n",
    "            x2 = pr.cos_sim_w_shift(S, pr.lib(lib_names[b]),shift)\n",
    "            if (temp[1]>np.max([x1,x2])*(1+per)): \n",
    "                names.append(temp[0])\n",
    "                match.append(temp[1])\n",
    "        \n",
    "        if b==a:\n",
    "            B = pr.lib(lib_names[a]).copy()\n",
    "            names.append(lib_names[a])\n",
    "            match.append(pr.cos_sim_w_shift(S,B,shift))\n",
    "            \n",
    "\n",
    "match = pd.DataFrame({'spectra':names, 'match':match})    \n",
    "match.sort_values('match', ascending=False, inplace=True)\n",
    "match.reset_index(inplace=True, drop=True)\n",
    "print(match.head(10))"
   ]
  },
  {
   "cell_type": "code",
   "execution_count": null,
   "metadata": {},
   "outputs": [],
   "source": []
  }
 ],
 "metadata": {
  "interpreter": {
   "hash": "092cab01d92fba00de008360659f1920d197a9bb35c9781e9e883b46268b99c3"
  },
  "kernelspec": {
   "display_name": "Python 3.9.7 ('py')",
   "language": "python",
   "name": "python3"
  },
  "language_info": {
   "codemirror_mode": {
    "name": "ipython",
    "version": 3
   },
   "file_extension": ".py",
   "mimetype": "text/x-python",
   "name": "python",
   "nbconvert_exporter": "python",
   "pygments_lexer": "ipython3",
   "version": "3.9.7"
  },
  "orig_nbformat": 4
 },
 "nbformat": 4,
 "nbformat_minor": 2
}
